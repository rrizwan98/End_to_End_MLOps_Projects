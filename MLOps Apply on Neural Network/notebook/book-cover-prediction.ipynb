{
  "nbformat": 4,
  "nbformat_minor": 0,
  "metadata": {
    "colab": {
      "provenance": []
    },
    "kernelspec": {
      "name": "python3",
      "display_name": "Python 3"
    },
    "language_info": {
      "name": "python"
    },
    "gpuClass": "standard",
    "accelerator": "GPU"
  },
  "cells": [
    {
      "cell_type": "code",
      "source": [
        "from keras.layers import Conv2D, MaxPooling2D, GlobalAveragePooling2D\n",
        "from sklearn.model_selection import train_test_split\n",
        "from keras.layers import Dense, Dropout, Flatten,MaxPool2D,BatchNormalization\n",
        "from keras.utils import to_categorical\n",
        "from keras.preprocessing import image\n",
        "from keras.models import Sequential\n",
        "import matplotlib.pyplot as plt\n",
        "import tensorflow as tf\n",
        "from tqdm import tqdm\n",
        "import argparse, os\n",
        "import pandas as pd\n",
        "import numpy as np\n",
        "import keras"
      ],
      "metadata": {
        "id": "nI8crIba2JNy"
      },
      "execution_count": 14,
      "outputs": []
    },
    {
      "cell_type": "code",
      "source": [
        "from zipfile import ZipFile\n",
        "file_name='/content/drive/MyDrive/freelance_projects/books-cover-prediction/dataset.zip'\n",
        "with ZipFile (file_name,'r')as zip:\n",
        "  zip.extractall()\n",
        "  print('done')"
      ],
      "metadata": {
        "id": "DhAt3QOT2JPa",
        "colab": {
          "base_uri": "https://localhost:8080/"
        },
        "outputId": "c652bdd5-64a9-4a0e-f736-a0e759aeb7aa"
      },
      "execution_count": 2,
      "outputs": [
        {
          "output_type": "stream",
          "name": "stdout",
          "text": [
            "done\n"
          ]
        }
      ]
    },
    {
      "cell_type": "code",
      "source": [
        "training_dir = '/content/dataset'"
      ],
      "metadata": {
        "id": "5lnqz9wY4olo"
      },
      "execution_count": 3,
      "outputs": []
    },
    {
      "cell_type": "code",
      "source": [
        "train = pd.read_csv(os.path.join(training_dir, '/content/dataset/main.csv'))\n",
        "# test = pd.read_csv(os.path.join(training_dir,\"test\" ,'test-classes.csv'))\n",
        "# train_image = os.path.join(training_dir,\"train\" )\n",
        "# test_image = os.path.join(training_dir, \"test\")"
      ],
      "metadata": {
        "id": "QXLpd8nb2JRq"
      },
      "execution_count": 4,
      "outputs": []
    },
    {
      "cell_type": "code",
      "source": [
        "train"
      ],
      "metadata": {
        "id": "Q1WsnJVz-l5Q",
        "colab": {
          "base_uri": "https://localhost:8080/",
          "height": 641
        },
        "outputId": "aa8986e8-7a31-486a-fe16-f36e0fb8d41a"
      },
      "execution_count": 5,
      "outputs": [
        {
          "output_type": "execute_result",
          "data": {
            "text/plain": [
              "                                                  image  \\\n",
              "0     https://d1w7fb2mkkr3kw.cloudfront.net/assets/i...   \n",
              "1     https://d1w7fb2mkkr3kw.cloudfront.net/assets/i...   \n",
              "2     https://d1w7fb2mkkr3kw.cloudfront.net/assets/i...   \n",
              "3     https://d1w7fb2mkkr3kw.cloudfront.net/assets/i...   \n",
              "4     https://d1w7fb2mkkr3kw.cloudfront.net/assets/i...   \n",
              "...                                                 ...   \n",
              "1970  https://d1w7fb2mkkr3kw.cloudfront.net/assets/i...   \n",
              "1971  https://d1w7fb2mkkr3kw.cloudfront.net/assets/i...   \n",
              "1972  https://d1w7fb2mkkr3kw.cloudfront.net/assets/i...   \n",
              "1973  https://d1w7fb2mkkr3kw.cloudfront.net/assets/i...   \n",
              "1974  https://d1w7fb2mkkr3kw.cloudfront.net/assets/i...   \n",
              "\n",
              "                                         name            author     format  \\\n",
              "0                       The Barefoot Investor        Scott Pape  Paperback   \n",
              "1     How to Win Friends and Influence People     Dale Carnegie  Paperback   \n",
              "2                     Thinking, Fast and Slow   Daniel Kahneman  Paperback   \n",
              "3                              Start With Why       Simon Sinek  Paperback   \n",
              "4                    Man's Search For Meaning  Viktor E. Frankl  Paperback   \n",
              "...                                       ...               ...        ...   \n",
              "1970                 Who Was Albert Einstein?     Jess Brallier  Paperback   \n",
              "1971                A Day at the Fire Station    Garth Williams  Paperback   \n",
              "1972                        We Are in a Book!        Mo Willems   Hardback   \n",
              "1973       What to Do When You Dread Your Bed      Dawn Huebner  Paperback   \n",
              "1974                        The Midnight Gang    David Walliams  Paperback   \n",
              "\n",
              "      book_depository_stars  price currency  old_price          isbn  \\\n",
              "0                       4.5  14.06        $      17.60  9.780000e+12   \n",
              "1                       4.0    8.3        $       9.50  9.780000e+12   \n",
              "2                       4.0   11.5        $      15.00  9.780000e+12   \n",
              "3                       4.0    8.9        $      12.40  9.780000e+12   \n",
              "4                       4.5   9.66        $        NaN  9.780000e+12   \n",
              "...                     ...    ...      ...        ...           ...   \n",
              "1970                    4.0   4.64        $       6.20  9.780000e+12   \n",
              "1971                    4.0   8.01        $        NaN  9.780000e+12   \n",
              "1972                    4.5   9.67        $        NaN  9.780000e+12   \n",
              "1973                    4.5  15.27        $      16.19  9.780000e+12   \n",
              "1974                    4.5    9.3        $       9.50  9.780000e+12   \n",
              "\n",
              "                  category                                 img_paths  \n",
              "0     Business-Finance-Law  dataset/Business-Finance-Law/0000001.jpg  \n",
              "1     Business-Finance-Law  dataset/Business-Finance-Law/0000002.jpg  \n",
              "2     Business-Finance-Law  dataset/Business-Finance-Law/0000003.jpg  \n",
              "3     Business-Finance-Law  dataset/Business-Finance-Law/0000004.jpg  \n",
              "4     Business-Finance-Law  dataset/Business-Finance-Law/0000005.jpg  \n",
              "...                    ...                                       ...  \n",
              "1970       Childrens-Books       dataset/Childrens-Books/0000982.jpg  \n",
              "1971       Childrens-Books       dataset/Childrens-Books/0000983.jpg  \n",
              "1972       Childrens-Books       dataset/Childrens-Books/0000984.jpg  \n",
              "1973       Childrens-Books       dataset/Childrens-Books/0000985.jpg  \n",
              "1974       Childrens-Books       dataset/Childrens-Books/0000986.jpg  \n",
              "\n",
              "[1975 rows x 11 columns]"
            ],
            "text/html": [
              "\n",
              "  <div id=\"df-06ff03b7-348a-4fb8-b6a8-2bbac75b211b\">\n",
              "    <div class=\"colab-df-container\">\n",
              "      <div>\n",
              "<style scoped>\n",
              "    .dataframe tbody tr th:only-of-type {\n",
              "        vertical-align: middle;\n",
              "    }\n",
              "\n",
              "    .dataframe tbody tr th {\n",
              "        vertical-align: top;\n",
              "    }\n",
              "\n",
              "    .dataframe thead th {\n",
              "        text-align: right;\n",
              "    }\n",
              "</style>\n",
              "<table border=\"1\" class=\"dataframe\">\n",
              "  <thead>\n",
              "    <tr style=\"text-align: right;\">\n",
              "      <th></th>\n",
              "      <th>image</th>\n",
              "      <th>name</th>\n",
              "      <th>author</th>\n",
              "      <th>format</th>\n",
              "      <th>book_depository_stars</th>\n",
              "      <th>price</th>\n",
              "      <th>currency</th>\n",
              "      <th>old_price</th>\n",
              "      <th>isbn</th>\n",
              "      <th>category</th>\n",
              "      <th>img_paths</th>\n",
              "    </tr>\n",
              "  </thead>\n",
              "  <tbody>\n",
              "    <tr>\n",
              "      <th>0</th>\n",
              "      <td>https://d1w7fb2mkkr3kw.cloudfront.net/assets/i...</td>\n",
              "      <td>The Barefoot Investor</td>\n",
              "      <td>Scott Pape</td>\n",
              "      <td>Paperback</td>\n",
              "      <td>4.5</td>\n",
              "      <td>14.06</td>\n",
              "      <td>$</td>\n",
              "      <td>17.60</td>\n",
              "      <td>9.780000e+12</td>\n",
              "      <td>Business-Finance-Law</td>\n",
              "      <td>dataset/Business-Finance-Law/0000001.jpg</td>\n",
              "    </tr>\n",
              "    <tr>\n",
              "      <th>1</th>\n",
              "      <td>https://d1w7fb2mkkr3kw.cloudfront.net/assets/i...</td>\n",
              "      <td>How to Win Friends and Influence People</td>\n",
              "      <td>Dale Carnegie</td>\n",
              "      <td>Paperback</td>\n",
              "      <td>4.0</td>\n",
              "      <td>8.3</td>\n",
              "      <td>$</td>\n",
              "      <td>9.50</td>\n",
              "      <td>9.780000e+12</td>\n",
              "      <td>Business-Finance-Law</td>\n",
              "      <td>dataset/Business-Finance-Law/0000002.jpg</td>\n",
              "    </tr>\n",
              "    <tr>\n",
              "      <th>2</th>\n",
              "      <td>https://d1w7fb2mkkr3kw.cloudfront.net/assets/i...</td>\n",
              "      <td>Thinking, Fast and Slow</td>\n",
              "      <td>Daniel Kahneman</td>\n",
              "      <td>Paperback</td>\n",
              "      <td>4.0</td>\n",
              "      <td>11.5</td>\n",
              "      <td>$</td>\n",
              "      <td>15.00</td>\n",
              "      <td>9.780000e+12</td>\n",
              "      <td>Business-Finance-Law</td>\n",
              "      <td>dataset/Business-Finance-Law/0000003.jpg</td>\n",
              "    </tr>\n",
              "    <tr>\n",
              "      <th>3</th>\n",
              "      <td>https://d1w7fb2mkkr3kw.cloudfront.net/assets/i...</td>\n",
              "      <td>Start With Why</td>\n",
              "      <td>Simon Sinek</td>\n",
              "      <td>Paperback</td>\n",
              "      <td>4.0</td>\n",
              "      <td>8.9</td>\n",
              "      <td>$</td>\n",
              "      <td>12.40</td>\n",
              "      <td>9.780000e+12</td>\n",
              "      <td>Business-Finance-Law</td>\n",
              "      <td>dataset/Business-Finance-Law/0000004.jpg</td>\n",
              "    </tr>\n",
              "    <tr>\n",
              "      <th>4</th>\n",
              "      <td>https://d1w7fb2mkkr3kw.cloudfront.net/assets/i...</td>\n",
              "      <td>Man's Search For Meaning</td>\n",
              "      <td>Viktor E. Frankl</td>\n",
              "      <td>Paperback</td>\n",
              "      <td>4.5</td>\n",
              "      <td>9.66</td>\n",
              "      <td>$</td>\n",
              "      <td>NaN</td>\n",
              "      <td>9.780000e+12</td>\n",
              "      <td>Business-Finance-Law</td>\n",
              "      <td>dataset/Business-Finance-Law/0000005.jpg</td>\n",
              "    </tr>\n",
              "    <tr>\n",
              "      <th>...</th>\n",
              "      <td>...</td>\n",
              "      <td>...</td>\n",
              "      <td>...</td>\n",
              "      <td>...</td>\n",
              "      <td>...</td>\n",
              "      <td>...</td>\n",
              "      <td>...</td>\n",
              "      <td>...</td>\n",
              "      <td>...</td>\n",
              "      <td>...</td>\n",
              "      <td>...</td>\n",
              "    </tr>\n",
              "    <tr>\n",
              "      <th>1970</th>\n",
              "      <td>https://d1w7fb2mkkr3kw.cloudfront.net/assets/i...</td>\n",
              "      <td>Who Was Albert Einstein?</td>\n",
              "      <td>Jess Brallier</td>\n",
              "      <td>Paperback</td>\n",
              "      <td>4.0</td>\n",
              "      <td>4.64</td>\n",
              "      <td>$</td>\n",
              "      <td>6.20</td>\n",
              "      <td>9.780000e+12</td>\n",
              "      <td>Childrens-Books</td>\n",
              "      <td>dataset/Childrens-Books/0000982.jpg</td>\n",
              "    </tr>\n",
              "    <tr>\n",
              "      <th>1971</th>\n",
              "      <td>https://d1w7fb2mkkr3kw.cloudfront.net/assets/i...</td>\n",
              "      <td>A Day at the Fire Station</td>\n",
              "      <td>Garth Williams</td>\n",
              "      <td>Paperback</td>\n",
              "      <td>4.0</td>\n",
              "      <td>8.01</td>\n",
              "      <td>$</td>\n",
              "      <td>NaN</td>\n",
              "      <td>9.780000e+12</td>\n",
              "      <td>Childrens-Books</td>\n",
              "      <td>dataset/Childrens-Books/0000983.jpg</td>\n",
              "    </tr>\n",
              "    <tr>\n",
              "      <th>1972</th>\n",
              "      <td>https://d1w7fb2mkkr3kw.cloudfront.net/assets/i...</td>\n",
              "      <td>We Are in a Book!</td>\n",
              "      <td>Mo Willems</td>\n",
              "      <td>Hardback</td>\n",
              "      <td>4.5</td>\n",
              "      <td>9.67</td>\n",
              "      <td>$</td>\n",
              "      <td>NaN</td>\n",
              "      <td>9.780000e+12</td>\n",
              "      <td>Childrens-Books</td>\n",
              "      <td>dataset/Childrens-Books/0000984.jpg</td>\n",
              "    </tr>\n",
              "    <tr>\n",
              "      <th>1973</th>\n",
              "      <td>https://d1w7fb2mkkr3kw.cloudfront.net/assets/i...</td>\n",
              "      <td>What to Do When You Dread Your Bed</td>\n",
              "      <td>Dawn Huebner</td>\n",
              "      <td>Paperback</td>\n",
              "      <td>4.5</td>\n",
              "      <td>15.27</td>\n",
              "      <td>$</td>\n",
              "      <td>16.19</td>\n",
              "      <td>9.780000e+12</td>\n",
              "      <td>Childrens-Books</td>\n",
              "      <td>dataset/Childrens-Books/0000985.jpg</td>\n",
              "    </tr>\n",
              "    <tr>\n",
              "      <th>1974</th>\n",
              "      <td>https://d1w7fb2mkkr3kw.cloudfront.net/assets/i...</td>\n",
              "      <td>The Midnight Gang</td>\n",
              "      <td>David Walliams</td>\n",
              "      <td>Paperback</td>\n",
              "      <td>4.5</td>\n",
              "      <td>9.3</td>\n",
              "      <td>$</td>\n",
              "      <td>9.50</td>\n",
              "      <td>9.780000e+12</td>\n",
              "      <td>Childrens-Books</td>\n",
              "      <td>dataset/Childrens-Books/0000986.jpg</td>\n",
              "    </tr>\n",
              "  </tbody>\n",
              "</table>\n",
              "<p>1975 rows × 11 columns</p>\n",
              "</div>\n",
              "      <button class=\"colab-df-convert\" onclick=\"convertToInteractive('df-06ff03b7-348a-4fb8-b6a8-2bbac75b211b')\"\n",
              "              title=\"Convert this dataframe to an interactive table.\"\n",
              "              style=\"display:none;\">\n",
              "        \n",
              "  <svg xmlns=\"http://www.w3.org/2000/svg\" height=\"24px\"viewBox=\"0 0 24 24\"\n",
              "       width=\"24px\">\n",
              "    <path d=\"M0 0h24v24H0V0z\" fill=\"none\"/>\n",
              "    <path d=\"M18.56 5.44l.94 2.06.94-2.06 2.06-.94-2.06-.94-.94-2.06-.94 2.06-2.06.94zm-11 1L8.5 8.5l.94-2.06 2.06-.94-2.06-.94L8.5 2.5l-.94 2.06-2.06.94zm10 10l.94 2.06.94-2.06 2.06-.94-2.06-.94-.94-2.06-.94 2.06-2.06.94z\"/><path d=\"M17.41 7.96l-1.37-1.37c-.4-.4-.92-.59-1.43-.59-.52 0-1.04.2-1.43.59L10.3 9.45l-7.72 7.72c-.78.78-.78 2.05 0 2.83L4 21.41c.39.39.9.59 1.41.59.51 0 1.02-.2 1.41-.59l7.78-7.78 2.81-2.81c.8-.78.8-2.07 0-2.86zM5.41 20L4 18.59l7.72-7.72 1.47 1.35L5.41 20z\"/>\n",
              "  </svg>\n",
              "      </button>\n",
              "      \n",
              "  <style>\n",
              "    .colab-df-container {\n",
              "      display:flex;\n",
              "      flex-wrap:wrap;\n",
              "      gap: 12px;\n",
              "    }\n",
              "\n",
              "    .colab-df-convert {\n",
              "      background-color: #E8F0FE;\n",
              "      border: none;\n",
              "      border-radius: 50%;\n",
              "      cursor: pointer;\n",
              "      display: none;\n",
              "      fill: #1967D2;\n",
              "      height: 32px;\n",
              "      padding: 0 0 0 0;\n",
              "      width: 32px;\n",
              "    }\n",
              "\n",
              "    .colab-df-convert:hover {\n",
              "      background-color: #E2EBFA;\n",
              "      box-shadow: 0px 1px 2px rgba(60, 64, 67, 0.3), 0px 1px 3px 1px rgba(60, 64, 67, 0.15);\n",
              "      fill: #174EA6;\n",
              "    }\n",
              "\n",
              "    [theme=dark] .colab-df-convert {\n",
              "      background-color: #3B4455;\n",
              "      fill: #D2E3FC;\n",
              "    }\n",
              "\n",
              "    [theme=dark] .colab-df-convert:hover {\n",
              "      background-color: #434B5C;\n",
              "      box-shadow: 0px 1px 3px 1px rgba(0, 0, 0, 0.15);\n",
              "      filter: drop-shadow(0px 1px 2px rgba(0, 0, 0, 0.3));\n",
              "      fill: #FFFFFF;\n",
              "    }\n",
              "  </style>\n",
              "\n",
              "      <script>\n",
              "        const buttonEl =\n",
              "          document.querySelector('#df-06ff03b7-348a-4fb8-b6a8-2bbac75b211b button.colab-df-convert');\n",
              "        buttonEl.style.display =\n",
              "          google.colab.kernel.accessAllowed ? 'block' : 'none';\n",
              "\n",
              "        async function convertToInteractive(key) {\n",
              "          const element = document.querySelector('#df-06ff03b7-348a-4fb8-b6a8-2bbac75b211b');\n",
              "          const dataTable =\n",
              "            await google.colab.kernel.invokeFunction('convertToInteractive',\n",
              "                                                     [key], {});\n",
              "          if (!dataTable) return;\n",
              "\n",
              "          const docLinkHtml = 'Like what you see? Visit the ' +\n",
              "            '<a target=\"_blank\" href=https://colab.research.google.com/notebooks/data_table.ipynb>data table notebook</a>'\n",
              "            + ' to learn more about interactive tables.';\n",
              "          element.innerHTML = '';\n",
              "          dataTable['output_type'] = 'display_data';\n",
              "          await google.colab.output.renderOutput(dataTable, element);\n",
              "          const docLink = document.createElement('div');\n",
              "          docLink.innerHTML = docLinkHtml;\n",
              "          element.appendChild(docLink);\n",
              "        }\n",
              "      </script>\n",
              "    </div>\n",
              "  </div>\n",
              "  "
            ]
          },
          "metadata": {},
          "execution_count": 5
        }
      ]
    },
    {
      "cell_type": "code",
      "source": [
        "print(\"Train Data Shape\",train.shape)\n",
        "# print(\"Test Data Shape\",test.shape)\n",
        "print(\"Column Name\",train.columns)\n",
        "# print(\"s3 image path\",train_image)"
      ],
      "metadata": {
        "id": "fcJ4O9II2JUS",
        "colab": {
          "base_uri": "https://localhost:8080/"
        },
        "outputId": "d1d801d0-523d-4dc4-82b8-2b15bc99de1b"
      },
      "execution_count": 6,
      "outputs": [
        {
          "output_type": "stream",
          "name": "stdout",
          "text": [
            "Train Data Shape (1975, 11)\n",
            "Column Name Index(['image', 'name', 'author', 'format', 'book_depository_stars', 'price',\n",
            "       'currency', 'old_price', 'isbn', 'category', 'img_paths'],\n",
            "      dtype='object')\n"
          ]
        }
      ]
    },
    {
      "cell_type": "code",
      "source": [
        "#prepare train images\n",
        "X = []\n",
        "for i in tqdm(range(train.shape[0])):\n",
        "  img = tf.keras.utils.load_img(\"/content/\" + train['img_paths'][i],target_size=(400,400,3))\n",
        "  img = tf.keras.utils.img_to_array(img)\n",
        "  img = img/255\n",
        "  X.append(img)\n",
        "X= np.array(X)\n",
        "print(X.shape)"
      ],
      "metadata": {
        "id": "XzdSiHNQ2JW1",
        "colab": {
          "base_uri": "https://localhost:8080/"
        },
        "outputId": "b25b0915-f8c7-4c9c-990d-ac119ed58b06"
      },
      "execution_count": 7,
      "outputs": [
        {
          "output_type": "stream",
          "name": "stderr",
          "text": [
            "100%|██████████| 1975/1975 [00:05<00:00, 362.31it/s]\n"
          ]
        },
        {
          "output_type": "stream",
          "name": "stdout",
          "text": [
            "(1975, 400, 400, 3)\n"
          ]
        }
      ]
    },
    {
      "cell_type": "code",
      "source": [
        "#prepare train labels\n",
        "y = train.drop(['image', 'name', 'author', 'format', 'book_depository_stars', 'price', 'currency', 'old_price', 'isbn', 'img_paths'],axis=1)\n",
        "y = y.to_numpy()\n",
        "print(y.shape)\n",
        "print(X.shape)"
      ],
      "metadata": {
        "id": "Dw1sJ3qh2JZS",
        "colab": {
          "base_uri": "https://localhost:8080/"
        },
        "outputId": "0efc3f5f-8bde-480d-f1db-f5d058fca1cf"
      },
      "execution_count": 8,
      "outputs": [
        {
          "output_type": "stream",
          "name": "stdout",
          "text": [
            "(1975, 1)\n",
            "(1975, 400, 400, 3)\n"
          ]
        }
      ]
    },
    {
      "cell_type": "code",
      "source": [
        "X_train, X_test, y_train, y_test = train_test_split(X, y, random_state=42, test_size=0.1)\n",
        "\n",
        "# seperate train test images and labels.\n",
        "print(X_train.shape)\n",
        "print(y_train.shape)\n",
        "    \n",
        "print(X_test.shape)\n",
        "print(y_test.shape)"
      ],
      "metadata": {
        "id": "7c1cihT82Jbq",
        "colab": {
          "base_uri": "https://localhost:8080/"
        },
        "outputId": "cadd01d9-a0f9-4999-821f-ce427c8c39dd"
      },
      "execution_count": 9,
      "outputs": [
        {
          "output_type": "stream",
          "name": "stdout",
          "text": [
            "(1777, 400, 400, 3)\n",
            "(1777, 1)\n",
            "(198, 400, 400, 3)\n",
            "(198, 1)\n"
          ]
        }
      ]
    },
    {
      "cell_type": "code",
      "source": [
        "# #apply FIne tune methord for resnet50 model\n",
        "# input_shape = (400 , 400 , 3)\n",
        "# base_model = tf.keras.applications.ResNet50V2(weights='imagenet', input_shape=input_shape, include_top=False)\n",
        "\n",
        "# for layer in base_model.layers:\n",
        "#     layer.trainable = False\n",
        "#     base_model.summary()\n",
        "        \n",
        "# for layer in base_model.layers[:]:\n",
        "#     layer.trainable = False\n",
        "# for i, layer in enumerate(base_model.layers):\n",
        "#     print(i, layer.name, layer.trainable)\n",
        "        \n",
        "# # Make last block of the conv_base trainable:\n",
        "\n",
        "# for layer in base_model.layers[:177]:\n",
        "#     layer.trainable = False\n",
        "# for layer in base_model.layers[177:]:\n",
        "#     layer.trainable = True\n",
        "    \n",
        "# for i, layer in enumerate(base_model.layers):\n",
        "#     print(i, layer.name, layer.trainable)"
      ],
      "metadata": {
        "id": "_Qki6ql235tR"
      },
      "execution_count": 11,
      "outputs": []
    },
    {
      "cell_type": "code",
      "source": [
        "model = Sequential()\n",
        "model.add(Conv2D(16,kernel_size=(3,3),activation='relu',input_shape=X_train[0].shape))\n",
        "model.add(BatchNormalization())\n",
        "model.add(MaxPool2D(2,2))\n",
        "model.add(Dropout(0.3))\n",
        "\n",
        "model.add(Conv2D(32,kernel_size=(3,3),activation='relu'))\n",
        "model.add(BatchNormalization())\n",
        "model.add(MaxPool2D(2,2))\n",
        "model.add(Dropout(0.3))\n",
        "\n",
        "\n",
        "model.add(Conv2D(64,kernel_size=(3,3),activation='relu'))\n",
        "model.add(BatchNormalization())\n",
        "model.add(MaxPool2D(2,2))\n",
        "model.add(Dropout(0.4))\n",
        "\n",
        "model.add(Flatten())\n",
        "\n",
        "model.add(Dense(128,activation='relu'))\n",
        "model.add(BatchNormalization())\n",
        "model.add(Dropout(0.5))\n",
        "\n",
        "model.add(Dense(2,activation='sigmoid'))\n",
        "model.summary()"
      ],
      "metadata": {
        "id": "RLcaB1wI35wA",
        "colab": {
          "base_uri": "https://localhost:8080/"
        },
        "outputId": "d8135331-4e49-426e-9ab8-96742de9e595"
      },
      "execution_count": 16,
      "outputs": [
        {
          "output_type": "stream",
          "name": "stdout",
          "text": [
            "Model: \"sequential_2\"\n",
            "_________________________________________________________________\n",
            " Layer (type)                Output Shape              Param #   \n",
            "=================================================================\n",
            " conv2d_3 (Conv2D)           (None, 398, 398, 16)      448       \n",
            "                                                                 \n",
            " batch_normalization_4 (Batc  (None, 398, 398, 16)     64        \n",
            " hNormalization)                                                 \n",
            "                                                                 \n",
            " max_pooling2d_3 (MaxPooling  (None, 199, 199, 16)     0         \n",
            " 2D)                                                             \n",
            "                                                                 \n",
            " dropout_7 (Dropout)         (None, 199, 199, 16)      0         \n",
            "                                                                 \n",
            " conv2d_4 (Conv2D)           (None, 197, 197, 32)      4640      \n",
            "                                                                 \n",
            " batch_normalization_5 (Batc  (None, 197, 197, 32)     128       \n",
            " hNormalization)                                                 \n",
            "                                                                 \n",
            " max_pooling2d_4 (MaxPooling  (None, 98, 98, 32)       0         \n",
            " 2D)                                                             \n",
            "                                                                 \n",
            " dropout_8 (Dropout)         (None, 98, 98, 32)        0         \n",
            "                                                                 \n",
            " conv2d_5 (Conv2D)           (None, 96, 96, 64)        18496     \n",
            "                                                                 \n",
            " batch_normalization_6 (Batc  (None, 96, 96, 64)       256       \n",
            " hNormalization)                                                 \n",
            "                                                                 \n",
            " max_pooling2d_5 (MaxPooling  (None, 48, 48, 64)       0         \n",
            " 2D)                                                             \n",
            "                                                                 \n",
            " dropout_9 (Dropout)         (None, 48, 48, 64)        0         \n",
            "                                                                 \n",
            " flatten_1 (Flatten)         (None, 147456)            0         \n",
            "                                                                 \n",
            " dense_6 (Dense)             (None, 128)               18874496  \n",
            "                                                                 \n",
            " batch_normalization_7 (Batc  (None, 128)              512       \n",
            " hNormalization)                                                 \n",
            "                                                                 \n",
            " dropout_10 (Dropout)        (None, 128)               0         \n",
            "                                                                 \n",
            " dense_7 (Dense)             (None, 2)                 258       \n",
            "                                                                 \n",
            "=================================================================\n",
            "Total params: 18,899,298\n",
            "Trainable params: 18,898,818\n",
            "Non-trainable params: 480\n",
            "_________________________________________________________________\n"
          ]
        }
      ]
    },
    {
      "cell_type": "code",
      "source": [
        "batch_size = 16\n",
        "epochs = 1"
      ],
      "metadata": {
        "id": "Ja6mU6osQPHM"
      },
      "execution_count": 17,
      "outputs": []
    },
    {
      "cell_type": "code",
      "source": [
        "#compile your model\n",
        "model.compile(optimizer='adam', loss='binary_crossentropy', metrics=['accuracy'])\n",
        "    \n",
        "#start training\n",
        "model.fit(X_train, y_train, epochs=epochs, validation_data=(X_test, y_test), batch_size=batch_size)\n",
        "    \n",
        "# save model\n",
        "# model.save(f'{args.model_dir}/1')"
      ],
      "metadata": {
        "id": "7rSVtIUh35yg"
      },
      "execution_count": null,
      "outputs": []
    }
  ]
}